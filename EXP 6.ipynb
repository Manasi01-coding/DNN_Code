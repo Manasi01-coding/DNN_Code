{
 "cells": [
  {
   "cell_type": "markdown",
   "id": "01732246",
   "metadata": {},
   "source": [
    "### Lab Experiment No 6 : "
   ]
  },
  {
   "cell_type": "markdown",
   "id": "f99cd076",
   "metadata": {},
   "source": [
    "ReLU activation"
   ]
  },
  {
   "cell_type": "code",
   "execution_count": null,
   "id": "4cb3d3d4",
   "metadata": {},
   "outputs": [],
   "source": [
    "import numpy as np\n",
    "import pandas as pd\n",
    "import matplotlib.pyplot as plt\n",
    "import seaborn as sns\n",
    "import tensorflow as tf\n",
    "import sys"
   ]
  },
  {
   "cell_type": "code",
   "execution_count": null,
   "id": "e207231d",
   "metadata": {},
   "outputs": [],
   "source": [
    "# Define the training data and target data\n",
    "training_data = np.array([[0,0],[0,1],[1,0],[1,1]],\"float32\")\n",
    "target_data = np.array([[0],[1],[1],[0]],\"float32\")"
   ]
  },
  {
   "cell_type": "code",
   "execution_count": null,
   "id": "19ed7ee6",
   "metadata": {},
   "outputs": [],
   "source": [
    "model = tf.keras.models.Sequential()"
   ]
  },
  {
   "cell_type": "code",
   "execution_count": null,
   "id": "e9bbd73c",
   "metadata": {},
   "outputs": [],
   "source": [
    "model.add(tf.keras.layers.Dense(4, input_dim=2, activation='relu'))\n",
    "model.add(tf.keras.layers.Dense(1, activation='tanh'))"
   ]
  },
  {
   "cell_type": "code",
   "execution_count": null,
   "id": "ef717d6f",
   "metadata": {},
   "outputs": [],
   "source": [
    "model.compile(loss='mean_squared_error', optimizer='adam', metrics=['binary_accuracy'])\n",
    "model.summary()"
   ]
  },
  {
   "cell_type": "code",
   "execution_count": null,
   "id": "db4b166c",
   "metadata": {
    "scrolled": false
   },
   "outputs": [],
   "source": [
    "history = model.fit(training_data, target_data, epochs=500, verbose=2)\n"
   ]
  },
  {
   "cell_type": "code",
   "execution_count": null,
   "id": "b53a5ef6",
   "metadata": {},
   "outputs": [],
   "source": [
    "predictions = model.predict(training_data).round()"
   ]
  },
  {
   "cell_type": "code",
   "execution_count": null,
   "id": "16e716ad",
   "metadata": {},
   "outputs": [],
   "source": [
    "# Plot the loss curve\n",
    "loss_curve = history.history['loss']\n",
    "plt.plot(loss_curve, label='Train')\n",
    "plt.legend(loc='upper left')\n",
    "plt.title('Loss')\n",
    "plt.show()"
   ]
  },
  {
   "cell_type": "code",
   "execution_count": null,
   "id": "43ff4ae1",
   "metadata": {},
   "outputs": [],
   "source": [
    "# Plot the accuracy curve\n",
    "acc_curve = history.history['binary_accuracy']\n",
    "plt.plot(acc_curve, label='Train')\n",
    "plt.legend(loc='upper left')\n",
    "plt.title('Accuracy')\n",
    "plt.show()"
   ]
  },
  {
   "cell_type": "markdown",
   "id": "e9842714",
   "metadata": {},
   "source": [
    "sigmoid activation"
   ]
  },
  {
   "cell_type": "code",
   "execution_count": null,
   "id": "c86741a5",
   "metadata": {},
   "outputs": [],
   "source": [
    "training_data = np.array([[0,0],[0,1],[1,0],[1,1]],\"float32\")\n",
    "target_data = np.array([[0],[1],[1],[0]],\"float32\")"
   ]
  },
  {
   "cell_type": "code",
   "execution_count": null,
   "id": "b19e9bfb",
   "metadata": {},
   "outputs": [],
   "source": [
    "model = tf.keras.models.Sequential()\n",
    "model.add(tf.keras.layers.Dense(4, input_dim=2, activation='sigmoid'))\n",
    "model.add(tf.keras.layers.Dense(1, activation='tanh'))"
   ]
  },
  {
   "cell_type": "code",
   "execution_count": null,
   "id": "693ddebc",
   "metadata": {},
   "outputs": [],
   "source": [
    "model.compile(loss='mean_squared_error', optimizer='adam', metrics=['binary_accuracy'])\n",
    "model.summary()"
   ]
  },
  {
   "cell_type": "code",
   "execution_count": null,
   "id": "05f14e5e",
   "metadata": {},
   "outputs": [],
   "source": [
    "history = model.fit(training_data, target_data, epochs=500, verbose=2)\n"
   ]
  },
  {
   "cell_type": "code",
   "execution_count": null,
   "id": "7168aa8c",
   "metadata": {},
   "outputs": [],
   "source": [
    "predictions = model.predict(training_data).round()"
   ]
  },
  {
   "cell_type": "code",
   "execution_count": null,
   "id": "907208d5",
   "metadata": {},
   "outputs": [],
   "source": [
    "# Plot the loss curve\n",
    "loss_curve = history.history['loss']\n",
    "plt.plot(loss_curve, label='Train')\n",
    "plt.legend(loc='upper left')\n",
    "plt.title('Loss')\n",
    "plt.show()"
   ]
  },
  {
   "cell_type": "code",
   "execution_count": null,
   "id": "5f352134",
   "metadata": {},
   "outputs": [],
   "source": [
    "# Plot the accuracy curve\n",
    "acc_curve = history.history['binary_accuracy']\n",
    "plt.plot(acc_curve, label='Train')\n",
    "plt.legend(loc='upper left')\n",
    "plt.title('Accuracy')\n",
    "plt.show()"
   ]
  },
  {
   "cell_type": "markdown",
   "id": "88584e3d",
   "metadata": {},
   "source": [
    "tanh activation"
   ]
  },
  {
   "cell_type": "code",
   "execution_count": null,
   "id": "50cfe057",
   "metadata": {},
   "outputs": [],
   "source": [
    "training_data = np.array([[0,0],[0,1],[1,0],[1,1]],\"float32\")\n",
    "target_data = np.array([[0],[1],[1],[0]],\"float32\")"
   ]
  },
  {
   "cell_type": "code",
   "execution_count": null,
   "id": "5c929ed6",
   "metadata": {},
   "outputs": [],
   "source": [
    "model = tf.keras.models.Sequential()\n",
    "model.add(tf.keras.layers.Dense(4, input_dim=2, activation='tanh'))\n",
    "model.add(tf.keras.layers.Dense(1, activation='tanh'))"
   ]
  },
  {
   "cell_type": "code",
   "execution_count": null,
   "id": "28b6a5fe",
   "metadata": {},
   "outputs": [],
   "source": [
    "model.compile(loss='mean_squared_error', optimizer='adam', metrics=['binary_accuracy'])\n",
    "model.summary()"
   ]
  },
  {
   "cell_type": "code",
   "execution_count": null,
   "id": "29ccf961",
   "metadata": {},
   "outputs": [],
   "source": [
    "history = model.fit(training_data, target_data, epochs=500, verbose=2)"
   ]
  },
  {
   "cell_type": "code",
   "execution_count": null,
   "id": "a77f78a1",
   "metadata": {},
   "outputs": [],
   "source": [
    "predictions = model.predict(training_data).round()"
   ]
  },
  {
   "cell_type": "code",
   "execution_count": null,
   "id": "fe02420c",
   "metadata": {},
   "outputs": [],
   "source": [
    "# Plot the loss curve\n",
    "loss_curve = history.history['loss']\n",
    "plt.plot(loss_curve, label='Train')\n",
    "plt.legend(loc='upper left')\n",
    "plt.title('Loss')\n",
    "plt.show()"
   ]
  },
  {
   "cell_type": "code",
   "execution_count": null,
   "id": "6f230571",
   "metadata": {},
   "outputs": [],
   "source": [
    "# Plot the accuracy curve\n",
    "acc_curve = history.history['binary_accuracy']\n",
    "plt.plot(acc_curve, label='Train')\n",
    "plt.legend(loc='upper left')\n",
    "plt.title('Accuracy')\n",
    "plt.show()"
   ]
  },
  {
   "cell_type": "markdown",
   "id": "216f9182",
   "metadata": {},
   "source": [
    "softmax activation"
   ]
  },
  {
   "cell_type": "code",
   "execution_count": null,
   "id": "a0aba19d",
   "metadata": {},
   "outputs": [],
   "source": [
    "training_data = np.array([[0,0],[0,1],[1,0],[1,1]],\"float32\")\n",
    "target_data = np.array([[0],[1],[1],[0]],\"float32\")\n",
    "\n",
    "# Create a sequential model\n",
    "model = tf.keras.models.Sequential()\n",
    "model.add(tf.keras.layers.Dense(4, input_dim=2, activation='softmax'))\n",
    "model.add(tf.keras.layers.Dense(1, activation='tanh'))\n"
   ]
  },
  {
   "cell_type": "code",
   "execution_count": null,
   "id": "537b1268",
   "metadata": {},
   "outputs": [],
   "source": [
    "model.compile(loss='mean_squared_error', optimizer='adam', metrics=['binary_accuracy'])\n",
    "model.summary()"
   ]
  },
  {
   "cell_type": "code",
   "execution_count": null,
   "id": "65066508",
   "metadata": {},
   "outputs": [],
   "source": [
    "history = model.fit(training_data, target_data, epochs=500, verbose=2)\n"
   ]
  },
  {
   "cell_type": "code",
   "execution_count": null,
   "id": "89ccb71b",
   "metadata": {},
   "outputs": [],
   "source": [
    "predictions = model.predict(training_data).round()"
   ]
  },
  {
   "cell_type": "code",
   "execution_count": null,
   "id": "6aa2e671",
   "metadata": {},
   "outputs": [],
   "source": [
    "# Plot the loss curve\n",
    "loss_curve = history.history['loss']\n",
    "plt.plot(loss_curve, label='Train')\n",
    "plt.legend(loc='upper left')\n",
    "plt.title('Loss')\n",
    "plt.show()"
   ]
  },
  {
   "cell_type": "code",
   "execution_count": null,
   "id": "c230fb36",
   "metadata": {},
   "outputs": [],
   "source": [
    "# Plot the accuracy curve\n",
    "acc_curve = history.history['binary_accuracy']\n",
    "plt.plot(acc_curve, label='Train')\n",
    "plt.legend(loc='upper left')\n",
    "plt.title('Accuracy')\n",
    "plt.show()"
   ]
  },
  {
   "cell_type": "code",
   "execution_count": null,
   "id": "303978df",
   "metadata": {},
   "outputs": [],
   "source": []
  },
  {
   "cell_type": "code",
   "execution_count": null,
   "id": "942895b2",
   "metadata": {},
   "outputs": [],
   "source": []
  },
  {
   "cell_type": "code",
   "execution_count": null,
   "id": "91f9978b",
   "metadata": {},
   "outputs": [],
   "source": []
  }
 ],
 "metadata": {
  "kernelspec": {
   "display_name": "Python 3 (ipykernel)",
   "language": "python",
   "name": "python3"
  },
  "language_info": {
   "codemirror_mode": {
    "name": "ipython",
    "version": 3
   },
   "file_extension": ".py",
   "mimetype": "text/x-python",
   "name": "python",
   "nbconvert_exporter": "python",
   "pygments_lexer": "ipython3",
   "version": "3.9.13"
  }
 },
 "nbformat": 4,
 "nbformat_minor": 5
}
